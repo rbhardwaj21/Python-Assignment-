{
 "cells": [
  {
   "cell_type": "code",
   "execution_count": 62,
   "id": "dfee9f0d-3b49-400b-993f-ee7eaaa6378d",
   "metadata": {},
   "outputs": [
    {
     "name": "stdout",
     "output_type": "stream",
     "text": [
      "Before conversion:  <class 'int'>\n",
      "After conversion:  <class 'float'>\n"
     ]
    }
   ],
   "source": [
    "#Answer 1\n",
    "a = 3\n",
    "b = float(a)\n",
    "print (\"Before conversion: \",type(a))\n",
    "print (\"After conversion: \",type(b))"
   ]
  },
  {
   "cell_type": "code",
   "execution_count": 63,
   "id": "1d97359f-e28c-4854-83b4-ae7d60ba58cb",
   "metadata": {},
   "outputs": [
    {
     "name": "stdout",
     "output_type": "stream",
     "text": [
      "Before conversion:  <class 'float'>\n",
      "After conversion:  <class 'int'>\n"
     ]
    }
   ],
   "source": [
    "#Asnwer 2\n",
    "c = 3.9\n",
    "d = int(c)\n",
    "print (\"Before conversion: \",type(c))\n",
    "print (\"After conversion: \",type(d))"
   ]
  },
  {
   "cell_type": "code",
   "execution_count": 54,
   "id": "cf661228-dee9-4caa-a605-02453ffa001f",
   "metadata": {},
   "outputs": [
    {
     "name": "stdout",
     "output_type": "stream",
     "text": [
      "Before conversion:  <class 'int'>\n",
      "After conversion:  <class 'str'>\n"
     ]
    }
   ],
   "source": [
    "#Asnwer 3\n",
    "e = 21\n",
    "f = str(e)\n",
    "print (\"Before conversion: \",type(e))\n",
    "print (\"After conversion: \",type(f))"
   ]
  },
  {
   "cell_type": "code",
   "execution_count": 41,
   "id": "eb0d220a-5809-45db-bce2-d0ab768317ad",
   "metadata": {},
   "outputs": [
    {
     "name": "stdout",
     "output_type": "stream",
     "text": [
      "Before Conversion: <class 'list'>\n",
      "After Conversion: <class 'tuple'>\n"
     ]
    }
   ],
   "source": [
    "#Asnwer 4\n",
    "g = [1, 2, 3, 4, 5]\n",
    "h = tuple(g)\n",
    "print (\"Before Conversion:\" , type(g))\n",
    "print (\"After Conversion:\" , type(h))"
   ]
  },
  {
   "cell_type": "code",
   "execution_count": 55,
   "id": "da05ce53-a73e-4330-9f84-6382753160bb",
   "metadata": {},
   "outputs": [
    {
     "name": "stdout",
     "output_type": "stream",
     "text": [
      "Before conversion:  <class 'tuple'>\n",
      "After conversion:  <class 'list'>\n"
     ]
    }
   ],
   "source": [
    "#Asnwer 5\n",
    "i = (1, 2, 3, 4, 5)\n",
    "j = list(i)\n",
    "print (\"Before conversion: \",type(i))\n",
    "print (\"After conversion: \",type(j))"
   ]
  },
  {
   "cell_type": "code",
   "execution_count": 61,
   "id": "5cc0349c-9af9-4aa4-b43b-7b7aeb292559",
   "metadata": {},
   "outputs": [
    {
     "data": {
      "text/plain": [
       "'0b11'"
      ]
     },
     "execution_count": 61,
     "metadata": {},
     "output_type": "execute_result"
    }
   ],
   "source": [
    "#Asnwer 6\n",
    "k = 3\n",
    "bin(k)"
   ]
  },
  {
   "cell_type": "code",
   "execution_count": 57,
   "id": "c088329a-23f3-4632-8c48-aef7005ec83b",
   "metadata": {},
   "outputs": [
    {
     "data": {
      "text/plain": [
       "True"
      ]
     },
     "execution_count": 57,
     "metadata": {},
     "output_type": "execute_result"
    }
   ],
   "source": [
    "#Asnwer 7\n",
    "l = 12\n",
    "bool(l)"
   ]
  },
  {
   "cell_type": "code",
   "execution_count": null,
   "id": "c0973871-31e3-417d-a13c-5b2571dc6ab5",
   "metadata": {},
   "outputs": [],
   "source": []
  }
 ],
 "metadata": {
  "kernelspec": {
   "display_name": "Python 3 (ipykernel)",
   "language": "python",
   "name": "python3"
  },
  "language_info": {
   "codemirror_mode": {
    "name": "ipython",
    "version": 3
   },
   "file_extension": ".py",
   "mimetype": "text/x-python",
   "name": "python",
   "nbconvert_exporter": "python",
   "pygments_lexer": "ipython3",
   "version": "3.10.8"
  }
 },
 "nbformat": 4,
 "nbformat_minor": 5
}
