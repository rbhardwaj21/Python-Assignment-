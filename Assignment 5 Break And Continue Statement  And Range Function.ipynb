{
 "cells": [
  {
   "cell_type": "code",
   "execution_count": 6,
   "id": "55787be0-67a3-424f-84e6-d64e162ad0f9",
   "metadata": {},
   "outputs": [
    {
     "name": "stdout",
     "output_type": "stream",
     "text": [
      "1\n",
      "2\n",
      "3\n",
      "4\n"
     ]
    }
   ],
   "source": [
    "#Answer 1\n",
    "a = 1\n",
    "\n",
    "while a <= 10:\n",
    "    if a == 5:\n",
    "        break\n",
    "    \n",
    "    print(a)\n",
    "    a += 1\n"
   ]
  },
  {
   "cell_type": "code",
   "execution_count": 11,
   "id": "c7d46f7f-014b-460e-842d-3144752e3c0a",
   "metadata": {},
   "outputs": [
    {
     "name": "stdout",
     "output_type": "stream",
     "text": [
      "1\n",
      "2\n",
      "3\n",
      "4\n",
      "5\n",
      "Stop at specfic element: 5\n"
     ]
    }
   ],
   "source": [
    "#Answer 2\n",
    "my_list = [ 1, 2, 3, 4, 5, 6, 7, 8, 9]\n",
    "specific_element = 5\n",
    "\n",
    "for element in my_list:\n",
    "    print(element)\n",
    "    \n",
    "    if element == specific_element :\n",
    "        print(\"Stop at specfic element:\", element)\n",
    "        break"
   ]
  },
  {
   "cell_type": "code",
   "execution_count": 18,
   "id": "262303b5-617a-49a7-9122-21205ccba3f4",
   "metadata": {},
   "outputs": [
    {
     "name": "stdout",
     "output_type": "stream",
     "text": [
      "1\n",
      "3\n",
      "5\n",
      "7\n",
      "9\n"
     ]
    }
   ],
   "source": [
    "#Answer 3\n",
    "for b in range (10):\n",
    "    if b % 2 == 0:\n",
    "        continue\n",
    "    print(b)"
   ]
  },
  {
   "cell_type": "code",
   "execution_count": 20,
   "id": "54725e4e-62e2-426d-8e89-3ce34a4ba45d",
   "metadata": {},
   "outputs": [
    {
     "name": "stdout",
     "output_type": "stream",
     "text": [
      "0\n",
      "1\n",
      "2\n",
      "3\n",
      "4\n",
      "5\n",
      "6\n",
      "7\n",
      "8\n",
      "9\n"
     ]
    }
   ],
   "source": [
    "#Answer 4\n",
    "for c in range (10):\n",
    "    print(c)"
   ]
  },
  {
   "cell_type": "code",
   "execution_count": 27,
   "id": "22a955ff-ab9e-434b-b4f5-256b8fab6648",
   "metadata": {},
   "outputs": [
    {
     "name": "stdout",
     "output_type": "stream",
     "text": [
      "Multiplication table for 1 :\n",
      "1 * 1 = 1\n",
      "1 * 2 = 2\n",
      "1 * 3 = 3\n",
      "1 * 4 = 4\n",
      "1 * 5 = 5\n",
      "1 * 6 = 6\n",
      "1 * 7 = 7\n",
      "1 * 8 = 8\n",
      "1 * 9 = 9\n",
      "1 * 10 = 10\n"
     ]
    }
   ],
   "source": [
    "#Answer 5\n",
    "start_number = 1\n",
    "end_number = 5\n",
    "col = 10\n",
    "\n",
    "for d in range (start_number, end_number + 1):\n",
    "    print (f\"Multiplication table for {d} :\")\n",
    "    \n",
    "    for e in range (1, col + 1):\n",
    "        Product = d * e \n",
    "        print(f\"{d} * {e} = {Product}\")\n",
    "        \n",
    "    if d == 1 :\n",
    "        break\n",
    "    \n",
    "    print()"
   ]
  },
  {
   "cell_type": "code",
   "execution_count": 1,
   "id": "a8455923-5148-4102-a6b5-bbfab5abddae",
   "metadata": {},
   "outputs": [
    {
     "name": "stdout",
     "output_type": "stream",
     "text": [
      "1\n",
      "3\n",
      "5\n",
      "7\n",
      "9\n"
     ]
    }
   ],
   "source": [
    "#Answer 6\n",
    "f = 1\n",
    "\n",
    "while f <= 10:\n",
    "    if f % 2 == 0:\n",
    "        f += 1\n",
    "        continue\n",
    "        \n",
    "    print(f)\n",
    "    f += 1"
   ]
  },
  {
   "cell_type": "code",
   "execution_count": null,
   "id": "50022324-6348-4df5-9f0c-2b269c26f6a0",
   "metadata": {},
   "outputs": [],
   "source": []
  }
 ],
 "metadata": {
  "kernelspec": {
   "display_name": "Python 3 (ipykernel)",
   "language": "python",
   "name": "python3"
  },
  "language_info": {
   "codemirror_mode": {
    "name": "ipython",
    "version": 3
   },
   "file_extension": ".py",
   "mimetype": "text/x-python",
   "name": "python",
   "nbconvert_exporter": "python",
   "pygments_lexer": "ipython3",
   "version": "3.10.8"
  }
 },
 "nbformat": 4,
 "nbformat_minor": 5
}
