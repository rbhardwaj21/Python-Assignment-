{
  "nbformat": 4,
  "nbformat_minor": 0,
  "metadata": {
    "colab": {
      "provenance": []
    },
    "kernelspec": {
      "name": "python3",
      "display_name": "Python 3"
    },
    "language_info": {
      "name": "python"
    }
  },
  "cells": [
    {
      "cell_type": "code",
      "execution_count": null,
      "metadata": {
        "colab": {
          "base_uri": "https://localhost:8080/"
        },
        "id": "gGDKejWLlg84",
        "outputId": "ba4f75d1-7c92-4d7f-8c77-dab182019061"
      },
      "outputs": [
        {
          "output_type": "stream",
          "name": "stdout",
          "text": [
            "Length of the string: 12\n"
          ]
        }
      ],
      "source": [
        "# Q1  What is the purpose of the len() function in Python, and how can it be used with strings?\n",
        "# A1 The `len()` function in Python is used to return the length of an object. It can be used with various data types such as strings, lists, tuples, dictionaries, etc. Its purpose is to determine the number of elements or characters in the object.\n",
        "\n",
        "''' When used with strings specifically, `len()` returns the number of characters in the string. Here's how you can use it with strings:\n",
        "\n",
        "In this example, `len()` is applied to the `my_string` variable, which contains the string \"Hello, World\". The function returns the length of the string, which is 12 in this case (including spaces and punctuation marks).\n",
        "\n",
        "You can also use `len()` in conjunction with other string operations or functions to manipulate strings dynamically based on their length. '''\n",
        "\n",
        "#Code\n",
        "my_string = \"Hello, World\"\n",
        "length = len(my_string)\n",
        "print(\"Length of the string:\", length)\n"
      ]
    },
    {
      "cell_type": "code",
      "source": [
        "# Q2  How can you concatenate two or more strings in Python, and can you provide an example of string concatenation?\n",
        "# A2 In Python, you can concatenate two or more strings using the `+` operator or by using the `.join()` method. Here's how you can do it:\n",
        "\n",
        "# Using the `+` operator:\n",
        "\n",
        "string1 = \"Hello\"\n",
        "string2 = \"World\"\n",
        "concatenated_string = string1 + \" \" + string2\n",
        "print(concatenated_string)"
      ],
      "metadata": {
        "colab": {
          "base_uri": "https://localhost:8080/"
        },
        "id": "wP73ZKGDmqmj",
        "outputId": "55ac963e-3058-4602-9cfd-e156c727bd96"
      },
      "execution_count": null,
      "outputs": [
        {
          "output_type": "stream",
          "name": "stdout",
          "text": [
            "Hello World\n"
          ]
        }
      ]
    },
    {
      "cell_type": "code",
      "source": [
        "# A2 Using the `.join()` method:\n",
        "\n",
        "strings = [\"Hello\", \"World\"]\n",
        "concatenated_string = \" \".join(strings)\n",
        "print(concatenated_string)  # Output: Hello World\n",
        "\n",
        "\n",
        "''' In both examples, two strings are concatenated to form a single string. In the first example, the `+` operator is used to concatenate individual\n",
        " strings with spaces in between. In the second example, the `.join()` method joins the strings in the list with a space in between.'''\n"
      ],
      "metadata": {
        "colab": {
          "base_uri": "https://localhost:8080/",
          "height": 70
        },
        "id": "2lUGih43ni7q",
        "outputId": "45934c22-68bf-42e4-8d68-3d638873eb36"
      },
      "execution_count": null,
      "outputs": [
        {
          "output_type": "stream",
          "name": "stdout",
          "text": [
            "Hello World\n"
          ]
        },
        {
          "output_type": "execute_result",
          "data": {
            "text/plain": [
              "' In both examples, two strings are concatenated to form a single string. In the first example, the `+` operator is used to concatenate individual\\n strings with spaces in between. In the second example, the `.join()` method joins the strings in the list with a space in between.'"
            ],
            "application/vnd.google.colaboratory.intrinsic+json": {
              "type": "string"
            }
          },
          "metadata": {},
          "execution_count": 6
        }
      ]
    },
    {
      "cell_type": "code",
      "source": [
        "# Q3 What is string slicing in Python, and how can you extract a portion of a string using this method?\n",
        "# A3 String slicing in Python refers to the technique of extracting a portion of a string by specifying a range of indices. It allows you to create a new string that contains a subset of characters from the original string.\n",
        "# Example\n",
        "text = \"Hello, World!\"\n",
        "substring1 = text[0:5]\n",
        "print(substring1)\n",
        "\n"
      ],
      "metadata": {
        "id": "M1uBfsOhoFZ2",
        "colab": {
          "base_uri": "https://localhost:8080/"
        },
        "outputId": "85fd6d97-2574-445e-c22f-8d9acfa4a391"
      },
      "execution_count": 1,
      "outputs": [
        {
          "output_type": "stream",
          "name": "stdout",
          "text": [
            "Hello\n"
          ]
        }
      ]
    },
    {
      "cell_type": "code",
      "source": [
        "# Q4  How can you change the case of a string in Python, and can you provide examples of both making a string all uppercase and all lowercase?\n",
        "# A4 In Python, you can change the case of a string using the `upper()` and `lower()` methods. Here's how you can do it:\n",
        "\n",
        "''' 1. To convert a string to all uppercase: Use the `upper()` method.\n",
        "\n",
        "2. To convert a string to all lowercase: Use the `lower()` method.'''\n",
        "\n",
        "\n",
        "# Convert a string to all uppercase\n",
        "string1 = \"Hello, World!\"\n",
        "uppercase_string = string1.upper()\n",
        "print(uppercase_string)\n",
        "\n",
        "# Convert a string to all lowercase\n",
        "string2 = \"HELLO, WORLD!\"\n",
        "lowercase_string = string2.lower()\n",
        "print(lowercase_string)"
      ],
      "metadata": {
        "colab": {
          "base_uri": "https://localhost:8080/"
        },
        "id": "iaCDQ_dmr1WP",
        "outputId": "2e8774b2-de60-4f50-f6ad-17d14caa75d1"
      },
      "execution_count": 3,
      "outputs": [
        {
          "output_type": "stream",
          "name": "stdout",
          "text": [
            "HELLO, WORLD!\n",
            "hello, world!\n"
          ]
        }
      ]
    },
    {
      "cell_type": "code",
      "source": [
        "# Q5 What does the split() method do in Python, and how can you split a string using a specific delimiter?\n",
        "# A5 In Python, the `split()` method is used to split a string into a list of substrings based on a specified delimiter. By default, the delimiter used for splitting is whitespace (spaces, tabs, and newlines), but you can specify a different delimiter as an argument to the `split()` method.\n",
        "\n",
        "\n",
        "# Splitting a string using a specific delimiter\n",
        "sentence = \"The quick brown fox jumps over the lazy dog\"\n",
        "words = sentence.split()  # Using default delimiter (whitespace)\n",
        "print(words)\n",
        "\n",
        "# Splitting a string using a comma as the delimiter\n",
        "csv_data = \"apple,banana,orange,grape\"\n",
        "fruits = csv_data.split(',')\n",
        "print(fruits)\n"
      ],
      "metadata": {
        "colab": {
          "base_uri": "https://localhost:8080/"
        },
        "id": "jWtwmRYFssZK",
        "outputId": "1f892281-eb8e-4f28-970f-c131b3442ee5"
      },
      "execution_count": 4,
      "outputs": [
        {
          "output_type": "stream",
          "name": "stdout",
          "text": [
            "['The', 'quick', 'brown', 'fox', 'jumps', 'over', 'the', 'lazy', 'dog']\n",
            "['apple', 'banana', 'orange', 'grape']\n"
          ]
        }
      ]
    },
    {
      "cell_type": "code",
      "source": [],
      "metadata": {
        "id": "M5RMyyqatlK_"
      },
      "execution_count": null,
      "outputs": []
    }
  ]
}