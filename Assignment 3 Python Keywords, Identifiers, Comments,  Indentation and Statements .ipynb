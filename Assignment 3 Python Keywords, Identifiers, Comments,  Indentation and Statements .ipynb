{
 "cells": [
  {
   "cell_type": "code",
   "execution_count": 3,
   "id": "efc0ee03-57cf-4a87-bbef-194eac75ce31",
   "metadata": {},
   "outputs": [
    {
     "name": "stdout",
     "output_type": "stream",
     "text": [
      "IF Keyword Result : a is positive\n",
      "AND Keyword Result: True\n",
      "OR Keyword Result: True\n",
      "NOT Keyword Result: True\n",
      "ELSE Keyword Result: e is less than f\n"
     ]
    }
   ],
   "source": [
    "#Answer 1\n",
    "#Keywords are predefined words in python that hold specific meaning. They are reserved words. \n",
    "#Note-This word is not used as identifier (Variable name, Function name etc.) \n",
    "\n",
    "#Example 1-if Keyword\n",
    "a = 3\n",
    "if a > 0 :\n",
    "    print(\"IF Keyword Result : a is positive\")\n",
    "    \n",
    "#Example 2-and Keyword\n",
    "b = True and True\n",
    "print (\"AND Keyword Result:\" , b)\n",
    "\n",
    "#Example 3-or Keyword\n",
    "c = True or False\n",
    "print (\"OR Keyword Result:\" , c)\n",
    "\n",
    "#Example 4-not Keyword\n",
    "d = not False\n",
    "print (\"NOT Keyword Result:\" , d)\n",
    "\n",
    "#Example 5-else Keyword\n",
    "e = 12\n",
    "f = 21\n",
    "\n",
    "if e > f:\n",
    "    print(\"e is greater than f\")\n",
    "    \n",
    "else :\n",
    "    print(\"ELSE Keyword Result: e is less than f\")"
   ]
  },
  {
   "cell_type": "code",
   "execution_count": 8,
   "id": "8441adb6-9143-49bc-b613-de01a092fe16",
   "metadata": {},
   "outputs": [
    {
     "name": "stdout",
     "output_type": "stream",
     "text": [
      "Rule 1 rb: 21\n",
      "Rule 1 ab: 17\n",
      "Rule 1 r_a_b: 19\n",
      "Rule 2 rab: 12\n",
      "Rule 2 RAB: 19\n"
     ]
    }
   ],
   "source": [
    "#Answer 2\n",
    "#Rule of defining Identifiers\n",
    "#1. They must begin with a letter (a-z, A-Z) or an underscore (_).\n",
    "#2. Python is case-sensitive, so uppercase and lowercase letters are considered different. For example, \"RAB\" and \"rab\" are distinct identifiers.\n",
    "#3. Identifiers should not be named after Python keywords or reserved words, as they have special meanings in the language.\n",
    "#4. Special characters (except underscore) are not allowed in identifiers. For example, \"R-A-B\" is not a valid identifier.\n",
    "#5. There is no maximum length for identifiers, but it's good practice to keep them reasonably short and descriptive.\n",
    "\n",
    "#Example-Rule 1\n",
    "rb = 21\n",
    "ab = 17\n",
    "r_a_b = 19\n",
    "\n",
    "print (\"Rule 1 rb:\" ,rb)\n",
    "print (\"Rule 1 ab:\" ,ab)\n",
    "print (\"Rule 1 r_a_b:\" ,r_a_b)\n",
    "\n",
    "#Example-Rule 2 (True and true is not same if we want to use True keyword the firsr letter T should be capital)\n",
    "rab = 12\n",
    "RAB = 19\n",
    "\n",
    "print (\"Rule 2 rab:\" ,rab)\n",
    "print (\"Rule 2 RAB:\" ,RAB)\n",
    "\n",
    "#Example-Rule 3\n",
    "#Identifiers should not be named after Python keywords or reserved words, as they have special meanings in the language.\n",
    "#if we use this keyword as identifier than meaning of that keyword changed that will effect our code.\n",
    "\n",
    "#Example-Rule 4\n",
    "# @rab = 19 it will show error\n",
    "\n",
    "#Example-Rule 5\n",
    "#Reasonably short and descriptive identifier."
   ]
  },
  {
   "cell_type": "code",
   "execution_count": 10,
   "id": "b58e0f15-d82d-4f3a-9845-ede5fd873505",
   "metadata": {},
   "outputs": [
    {
     "name": "stdout",
     "output_type": "stream",
     "text": [
      "SUM: 19\n"
     ]
    }
   ],
   "source": [
    "#Answer 3\n",
    "''' Comments are text annotations within the source code that are ignored by the interpreter during execution. \n",
    "They are used to provide explanations, documentation, or additional information about the code. \n",
    "Comments are essential for making code more understandable, aiding in collaboration among developers, and facilitating maintenance. '''\n",
    "\n",
    "''' To explain the code we use comment '''\n",
    "\n",
    "#Two types of Comments\n",
    "'''\n",
    "1. Single line comment using hashtag (#)\n",
    "2. Multiple line comment using three upper comma (''' ''')\n",
    "'''\n",
    "\n",
    "#code for sum of two number in python\n",
    "\n",
    "#Input Value of two number\n",
    "g = 10\n",
    "h = 9\n",
    "\n",
    "#calculation of two number \n",
    "sum_of_two_number = g + h\n",
    "\n",
    "#Result\n",
    "print(\"SUM:\", sum_of_two_number)"
   ]
  },
  {
   "cell_type": "code",
   "execution_count": 14,
   "id": "2403b54f-ff76-410c-9470-a8ddb3d829fb",
   "metadata": {},
   "outputs": [
    {
     "data": {
      "text/plain": [
       "'\\nExample\\nif rab > 27 :\\nprint(\"rab\")\\nResult-Indentation error\\n'"
      ]
     },
     "execution_count": 14,
     "metadata": {},
     "output_type": "execute_result"
    }
   ],
   "source": [
    "#Answer 4\n",
    "'''\n",
    "Proper indentation is important in Python because it is used to indicate the structure and hierarchy of code blocks. \n",
    "Unlike many other programming languages that use curly braces or keywords to define code blocks, Python relies on indentation\n",
    "to determine the scope of statements within loops, conditional statements, functions, and other code structures.\n",
    "The Python interpreter uses indentation to understand the beginning and end of blocks of code. \n",
    "'''\n",
    "\n",
    "#Note-If indentation(Proper Structure or Space for code) is not provided in the code it will create indentation error.\n",
    "\n",
    "'''\n",
    "Example\n",
    "if rab > 27 :\n",
    "print(\"rab\")\n",
    "Result-Indentation error\n",
    "'''"
   ]
  },
  {
   "cell_type": "code",
   "execution_count": 15,
   "id": "8a316613-30a7-403e-8bd4-86527f4796f7",
   "metadata": {},
   "outputs": [],
   "source": [
    "#Answer 5\n",
    "#Indentation is not just a matter of style; it is a fundamental part of the language's syntax. \n",
    "#Incorrect indentation can lead to various issues, ranging from subtle logical errors to outright syntax errors.\n",
    "#Type of Errors\n",
    "#1. Syntax Error\n",
    "#2. Logical Error\n",
    "#3. Unintended Nesting\n",
    "#4. Mixing tab and Spaces\n",
    "#5. Inconsistance Indentation"
   ]
  },
  {
   "cell_type": "code",
   "execution_count": 19,
   "id": "028c51fd-b14b-48b9-b7b5-88589e26ffb3",
   "metadata": {},
   "outputs": [
    {
     "name": "stdout",
     "output_type": "stream",
     "text": [
      "Constant Expression Result: 16.3\n"
     ]
    },
    {
     "name": "stdin",
     "output_type": "stream",
     "text": [
      "Enter first number: 21\n",
      "Enter second number: 19\n"
     ]
    },
    {
     "name": "stdout",
     "output_type": "stream",
     "text": [
      "first number is greater than second number\n"
     ]
    }
   ],
   "source": [
    "#Answer 6\n",
    "'''\n",
    "Expression-An expression is a combination of values, variables, operators, and function calls that can be evaluated to produce a result. \n",
    "Essentially, an expression returns a value. Expressions can be simple, like a variable or a literal, or complex, involving multiple components.\n",
    "'''\n",
    "\n",
    "'''\n",
    "Statement-A statement, on the other hand, is a complete unit of code that performs an action. \n",
    "Statements are executed one after another, and they do not produce a value by themselves. \n",
    "Examples of statements include variable assignments, function calls, loops, conditionals, and more.\n",
    "'''\n",
    "\n",
    "#Example for Expression-Constant Expressions\n",
    "i = 15 + 1.3\n",
    "\n",
    "print(\"Constant Expression Result:\", i)\n",
    "\n",
    "#Example for Statement-if else Statement\n",
    "f = float(input(\"Enter first number:\"))\n",
    "g = float(input(\"Enter second number:\"))\n",
    "\n",
    "if f > g :\n",
    "    print (\"first number is greater than second number\")\n",
    "    \n",
    "elif f < g :\n",
    "    print (\"first number is less than second number\")\n",
    "    \n",
    "else :\n",
    "    print (\"both are equal\")"
   ]
  },
  {
   "cell_type": "code",
   "execution_count": null,
   "id": "b8e86a07-92b4-4a2a-a4fa-a9b8c6a0bf86",
   "metadata": {},
   "outputs": [],
   "source": []
  }
 ],
 "metadata": {
  "kernelspec": {
   "display_name": "Python 3 (ipykernel)",
   "language": "python",
   "name": "python3"
  },
  "language_info": {
   "codemirror_mode": {
    "name": "ipython",
    "version": 3
   },
   "file_extension": ".py",
   "mimetype": "text/x-python",
   "name": "python",
   "nbconvert_exporter": "python",
   "pygments_lexer": "ipython3",
   "version": "3.10.8"
  }
 },
 "nbformat": 4,
 "nbformat_minor": 5
}
