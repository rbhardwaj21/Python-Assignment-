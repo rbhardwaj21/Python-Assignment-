{
  "nbformat": 4,
  "nbformat_minor": 0,
  "metadata": {
    "colab": {
      "provenance": []
    },
    "kernelspec": {
      "name": "python3",
      "display_name": "Python 3"
    },
    "language_info": {
      "name": "python"
    }
  },
  "cells": [
    {
      "cell_type": "markdown",
      "source": [
        "OPPS and Function Assignment"
      ],
      "metadata": {
        "id": "-jQmJ6-CwM4p"
      }
    },
    {
      "cell_type": "markdown",
      "source": [
        "**Ans1**\n",
        "Functions help in breaking down a large problem into smaller, manageable tasks.\n",
        "They provide reusability, reduce redundancy, and improve code readability."
      ],
      "metadata": {
        "id": "ib-LVh1VvYk0"
      }
    },
    {
      "cell_type": "code",
      "source": [
        "#Ans2\n",
        "def greet_students():\n",
        "    print(\"Hello, students! Welcome to the Python class of Rab Data Magic.\")\n",
        "\n",
        "greet_students()"
      ],
      "metadata": {
        "colab": {
          "base_uri": "https://localhost:8080/"
        },
        "id": "w07hlvQWvV99",
        "outputId": "f2547c4d-10cd-4fd0-bc40-9bf95b850fbf"
      },
      "execution_count": 50,
      "outputs": [
        {
          "output_type": "stream",
          "name": "stdout",
          "text": [
            "Hello, students! Welcome to the Python class of Rab Data Magic.\n"
          ]
        }
      ]
    },
    {
      "cell_type": "markdown",
      "source": [
        "**Ans3**\n",
        "print-displays the output to the console but does not allow further use of the value.\n",
        "return-exits the function and passes a value back to the caller, allowing it to be used later."
      ],
      "metadata": {
        "id": "t-jjERf1w-fd"
      }
    },
    {
      "cell_type": "markdown",
      "source": [
        "**Ans4** args: Allows passing a variable number of non-keyword arguments.\n",
        "kwargs: Allows passing a variable number of keyword arguments."
      ],
      "metadata": {
        "id": "AilYD6TAycWB"
      }
    },
    {
      "cell_type": "markdown",
      "source": [
        "**Ans5** An iterator is an object that contains a countable number of values. It implements the __iter__() and __next__() methods to return data one element at a time."
      ],
      "metadata": {
        "id": "bBlw4FSxycDz"
      }
    },
    {
      "cell_type": "code",
      "source": [
        "#Ans6\n",
        "def generate_squares(n):\n",
        "    for i in range(1, n+1):\n",
        "        yield i**2\n",
        "\n",
        "n = 10\n",
        "squares = generate_squares(n)\n",
        "for square in squares:\n",
        "    print(square, end = ' ')"
      ],
      "metadata": {
        "colab": {
          "base_uri": "https://localhost:8080/"
        },
        "id": "llD2RT_JwGnX",
        "outputId": "c69bf063-1037-4eb9-cc63-b8e1a9b98146"
      },
      "execution_count": 51,
      "outputs": [
        {
          "output_type": "stream",
          "name": "stdout",
          "text": [
            "1 4 9 16 25 36 49 64 81 100 "
          ]
        }
      ]
    },
    {
      "cell_type": "code",
      "source": [
        "#Ans7\n",
        "def generate_palindromes(n):\n",
        "    for i in range(1, n+1):\n",
        "        if str(i) == str(i)[::-1]:\n",
        "            yield i\n",
        "\n",
        "n = 100\n",
        "palindromes = generate_palindromes(n)\n",
        "for palindrome in palindromes:\n",
        "    print(palindrome, end = ' ')\n"
      ],
      "metadata": {
        "colab": {
          "base_uri": "https://localhost:8080/"
        },
        "id": "CWYppJFb0RcI",
        "outputId": "560a1b4e-adfe-4918-8dcc-c9413000eb17"
      },
      "execution_count": 52,
      "outputs": [
        {
          "output_type": "stream",
          "name": "stdout",
          "text": [
            "1 2 3 4 5 6 7 8 9 11 22 33 44 55 66 77 88 99 "
          ]
        }
      ]
    },
    {
      "cell_type": "code",
      "source": [
        "#Ans8\n",
        "def generate_even_numbers(n):\n",
        "    for i in range(2, n+1, 2):\n",
        "        yield i\n",
        "\n",
        "n = 20\n",
        "evens = generate_even_numbers(n)\n",
        "for even in evens:\n",
        "    print(even, end = ' ')\n"
      ],
      "metadata": {
        "colab": {
          "base_uri": "https://localhost:8080/"
        },
        "id": "kq5M4zRn1J0y",
        "outputId": "58466bbf-ecdf-471d-8b42-22cffc66f4dc"
      },
      "execution_count": 53,
      "outputs": [
        {
          "output_type": "stream",
          "name": "stdout",
          "text": [
            "2 4 6 8 10 12 14 16 18 20 "
          ]
        }
      ]
    },
    {
      "cell_type": "code",
      "source": [
        "#Ans9\n",
        "def generate_powers_of_two(n):\n",
        "    for i in range(n):\n",
        "        yield 2 ** i\n",
        "\n",
        "n = 10\n",
        "powers_of_two = generate_powers_of_two(n)\n",
        "for power in powers_of_two:\n",
        "    print(power, end = ' ')\n"
      ],
      "metadata": {
        "colab": {
          "base_uri": "https://localhost:8080/"
        },
        "id": "hBqz2lmN18e3",
        "outputId": "188277f5-d2ba-4007-c46a-16868986670b"
      },
      "execution_count": 54,
      "outputs": [
        {
          "output_type": "stream",
          "name": "stdout",
          "text": [
            "1 2 4 8 16 32 64 128 256 512 "
          ]
        }
      ]
    },
    {
      "cell_type": "code",
      "source": [
        "#Ans10\n",
        "def generate_primes(n):\n",
        "    def is_prime(num):\n",
        "        if num < 2:\n",
        "            return False\n",
        "        for i in range(2, int(num ** 0.5) + 1):\n",
        "            if num % i == 0:\n",
        "                return False\n",
        "        return True\n",
        "\n",
        "    for i in range(2, n + 1):\n",
        "        if is_prime(i):\n",
        "            yield i\n",
        "\n",
        "n = 50\n",
        "primes = generate_primes(n)\n",
        "for prime in primes:\n",
        "    print(prime, end = ' ')\n"
      ],
      "metadata": {
        "colab": {
          "base_uri": "https://localhost:8080/"
        },
        "id": "cBpe0eY62GB3",
        "outputId": "afc280d2-e995-4ccf-8cbb-8b0679218332"
      },
      "execution_count": 55,
      "outputs": [
        {
          "output_type": "stream",
          "name": "stdout",
          "text": [
            "2 3 5 7 11 13 17 19 23 29 31 37 41 43 47 "
          ]
        }
      ]
    },
    {
      "cell_type": "code",
      "source": [
        "#Ans11\n",
        "sum_two_numbers = lambda x, y: x + y\n",
        "print(sum_two_numbers(10, 20))\n"
      ],
      "metadata": {
        "colab": {
          "base_uri": "https://localhost:8080/"
        },
        "id": "EJxtWM9_2uad",
        "outputId": "f58c09aa-4ce4-4c92-ff70-97dd7016d560"
      },
      "execution_count": 56,
      "outputs": [
        {
          "output_type": "stream",
          "name": "stdout",
          "text": [
            "30\n"
          ]
        }
      ]
    },
    {
      "cell_type": "code",
      "source": [
        "#Ans12\n",
        "square_number = lambda x: x ** 2\n",
        "print(square_number(5))\n"
      ],
      "metadata": {
        "colab": {
          "base_uri": "https://localhost:8080/"
        },
        "id": "IF6xn05c3HH7",
        "outputId": "3bc0cb17-b8d0-4bfd-ffdc-3ca81a7d39e7"
      },
      "execution_count": 57,
      "outputs": [
        {
          "output_type": "stream",
          "name": "stdout",
          "text": [
            "25\n"
          ]
        }
      ]
    },
    {
      "cell_type": "code",
      "source": [
        "#Ans13\n",
        "is_even = lambda x: \"Even\" if x % 2 == 0 else \"Odd\"\n",
        "print(is_even(10))\n",
        "print(is_even(7))\n"
      ],
      "metadata": {
        "colab": {
          "base_uri": "https://localhost:8080/"
        },
        "id": "LjlZmjJc3Ogn",
        "outputId": "69ffac7f-21d8-4687-f617-1aee71b57779"
      },
      "execution_count": 58,
      "outputs": [
        {
          "output_type": "stream",
          "name": "stdout",
          "text": [
            "Even\n",
            "Odd\n"
          ]
        }
      ]
    },
    {
      "cell_type": "code",
      "source": [
        "#Ans15\n",
        "concat_strings = lambda str1, str2: str1 + str2\n",
        "print(concat_strings(\"Hello\", \" World\"))\n"
      ],
      "metadata": {
        "colab": {
          "base_uri": "https://localhost:8080/"
        },
        "id": "NlX6-Knz3Vi_",
        "outputId": "871884bd-2695-4aa8-dbfb-a03870953a5d"
      },
      "execution_count": 59,
      "outputs": [
        {
          "output_type": "stream",
          "name": "stdout",
          "text": [
            "Hello World\n"
          ]
        }
      ]
    },
    {
      "cell_type": "code",
      "source": [
        "#Ans16\n",
        "max_of_three = lambda a, b, c: max(a, b, c)\n",
        "print(max_of_three(10, 20, 15))\n"
      ],
      "metadata": {
        "colab": {
          "base_uri": "https://localhost:8080/"
        },
        "id": "ty7PnLkP3jVl",
        "outputId": "c1808d9d-6bf0-4a7a-bf21-def06dfb718c"
      },
      "execution_count": 60,
      "outputs": [
        {
          "output_type": "stream",
          "name": "stdout",
          "text": [
            "20\n"
          ]
        }
      ]
    },
    {
      "cell_type": "code",
      "source": [
        "#Ans17\n",
        "def square_even_numbers(lst):\n",
        "    return [x ** 2 for x in lst if x % 2 == 0]\n",
        "\n",
        "numbers = [1, 2, 3, 4, 5, 6]\n",
        "print(square_even_numbers(numbers))\n"
      ],
      "metadata": {
        "colab": {
          "base_uri": "https://localhost:8080/"
        },
        "id": "ZLDFCfF65yal",
        "outputId": "6d773620-b2a2-48a4-b516-d80440981ecf"
      },
      "execution_count": 61,
      "outputs": [
        {
          "output_type": "stream",
          "name": "stdout",
          "text": [
            "[4, 16, 36]\n"
          ]
        }
      ]
    },
    {
      "cell_type": "code",
      "source": [
        "#Ans18\n",
        "from functools import reduce\n",
        "\n",
        "def product_of_positive(lst):\n",
        "    return reduce(lambda x, y: x * y, [i for i in lst if i > 0])\n",
        "\n",
        "numbers = [-1, 2, -3, 4, 5]\n",
        "print(product_of_positive(numbers))\n"
      ],
      "metadata": {
        "colab": {
          "base_uri": "https://localhost:8080/"
        },
        "id": "ee8botiv58Jf",
        "outputId": "d984b91b-5b64-477e-ffdb-5d8205c91482"
      },
      "execution_count": 62,
      "outputs": [
        {
          "output_type": "stream",
          "name": "stdout",
          "text": [
            "40\n"
          ]
        }
      ]
    },
    {
      "cell_type": "code",
      "source": [
        "#Ans19\n",
        "def double_odd_numbers(lst):\n",
        "    return [x * 2 for x in lst if x % 2 != 0]\n",
        "\n",
        "numbers = [1, 2, 3, 4, 5]\n",
        "print(double_odd_numbers(numbers))\n"
      ],
      "metadata": {
        "colab": {
          "base_uri": "https://localhost:8080/"
        },
        "id": "WgisfnW-6GBO",
        "outputId": "ed153069-7060-4ea9-9cd0-52bc2456ef47"
      },
      "execution_count": 63,
      "outputs": [
        {
          "output_type": "stream",
          "name": "stdout",
          "text": [
            "[2, 6, 10]\n"
          ]
        }
      ]
    },
    {
      "cell_type": "code",
      "source": [
        "#Ans20\n",
        "def sum_of_cubes(lst):\n",
        "    return sum(x ** 3 for x in lst)\n",
        "\n",
        "numbers = [1, 2, 3, 4, 5]\n",
        "print(sum_of_cubes(numbers))"
      ],
      "metadata": {
        "colab": {
          "base_uri": "https://localhost:8080/"
        },
        "id": "NxVpDxMs6TDz",
        "outputId": "a9fe73ff-9686-43f4-e3c9-3469159b493c"
      },
      "execution_count": 64,
      "outputs": [
        {
          "output_type": "stream",
          "name": "stdout",
          "text": [
            "225\n"
          ]
        }
      ]
    },
    {
      "cell_type": "code",
      "source": [
        "#Ans21\n",
        "def is_prime(num):\n",
        "    if num < 2:\n",
        "        return False\n",
        "    for i in range(2, int(num ** 0.5) + 1):\n",
        "        if num % i == 0:\n",
        "            return False\n",
        "    return True\n",
        "\n",
        "def filter_primes(lst):\n",
        "    return [x for x in lst if not is_prime(x)]\n",
        "\n",
        "numbers = [2, 3, 4, 5, 6, 7, 8, 9, 10]\n",
        "print(filter_primes(numbers))\n"
      ],
      "metadata": {
        "colab": {
          "base_uri": "https://localhost:8080/"
        },
        "id": "SIu19hGB6dhH",
        "outputId": "4e42a9cc-f2e6-471c-c495-0f6028eb4e2c"
      },
      "execution_count": 65,
      "outputs": [
        {
          "output_type": "stream",
          "name": "stdout",
          "text": [
            "[4, 6, 8, 9, 10]\n"
          ]
        }
      ]
    },
    {
      "cell_type": "code",
      "source": [
        "#Ans22\n",
        "sum_two_numbers = lambda x, y: x + y\n",
        "print(sum_two_numbers(15, 25))"
      ],
      "metadata": {
        "colab": {
          "base_uri": "https://localhost:8080/"
        },
        "id": "xUghwf_D72rt",
        "outputId": "e9c6c078-4e5f-4953-c04e-116adb2f876b"
      },
      "execution_count": 66,
      "outputs": [
        {
          "output_type": "stream",
          "name": "stdout",
          "text": [
            "40\n"
          ]
        }
      ]
    },
    {
      "cell_type": "code",
      "source": [
        "#Ans23\n",
        "square_number = lambda x: x ** 2\n",
        "print(square_number(8))\n"
      ],
      "metadata": {
        "colab": {
          "base_uri": "https://localhost:8080/"
        },
        "id": "omw5Sehz78W_",
        "outputId": "dc3fa353-a435-419d-bd6f-004e62b9c338"
      },
      "execution_count": 67,
      "outputs": [
        {
          "output_type": "stream",
          "name": "stdout",
          "text": [
            "64\n"
          ]
        }
      ]
    },
    {
      "cell_type": "code",
      "source": [
        "#Ans24\n",
        "is_even = lambda x: \"Even\" if x % 2 == 0 else \"Odd\"\n",
        "print(is_even(14))\n",
        "print(is_even(9))"
      ],
      "metadata": {
        "colab": {
          "base_uri": "https://localhost:8080/"
        },
        "id": "Rb_dAtOq8B-y",
        "outputId": "81d3fe68-2026-461c-c6a4-2200298fc3c7"
      },
      "execution_count": 68,
      "outputs": [
        {
          "output_type": "stream",
          "name": "stdout",
          "text": [
            "Even\n",
            "Odd\n"
          ]
        }
      ]
    },
    {
      "cell_type": "code",
      "source": [
        "#Ans25\n",
        "concat_strings = lambda str1, str2: str1 + str2\n",
        "print(concat_strings(\"Good\", \" Morning\"))\n"
      ],
      "metadata": {
        "colab": {
          "base_uri": "https://localhost:8080/"
        },
        "id": "SIiD-u398Ibb",
        "outputId": "74924495-a50c-44b2-add3-232c871bbc6c"
      },
      "execution_count": 69,
      "outputs": [
        {
          "output_type": "stream",
          "name": "stdout",
          "text": [
            "Good Morning\n"
          ]
        }
      ]
    },
    {
      "cell_type": "code",
      "source": [
        "#Ans26\n",
        "max_of_three = lambda a, b, c: max(a, b, c)\n",
        "print(max_of_three(30, 15, 25))"
      ],
      "metadata": {
        "colab": {
          "base_uri": "https://localhost:8080/"
        },
        "id": "VHMgsyVs8Mmj",
        "outputId": "c8df08dc-477c-4a69-b239-2c81fbfe3adf"
      },
      "execution_count": 70,
      "outputs": [
        {
          "output_type": "stream",
          "name": "stdout",
          "text": [
            "30\n"
          ]
        }
      ]
    },
    {
      "cell_type": "markdown",
      "source": [
        "**Ans27**-Encapsulation in Object-Oriented Programming (OOP) refers to the bundling of data and methods that operate on the data within a single unit or class. It restricts direct access to some of an object's components and prevents accidental modification of data by hiding the internal representation of the object.\n",
        "\n"
      ],
      "metadata": {
        "id": "VDkcpV7l8ma_"
      }
    },
    {
      "cell_type": "markdown",
      "source": [
        "**Ans28**-Public: Attributes and methods are accessible from anywhere. (No leading underscores)\n",
        "Protected: Attributes are indicated with a single leading underscore (_) and should not be accessed outside the class or subclass.\n",
        "Private: Attributes are indicated with a double leading underscore (__). They cannot be accessed directly outside the class."
      ],
      "metadata": {
        "id": "Lxfmu9lk9ckA"
      }
    },
    {
      "cell_type": "markdown",
      "source": [
        "**Ans29**-Inheritance allows a class (child or derived class) to inherit attributes and methods from another class (parent or base class). This promotes code reusability and hierarchical classification."
      ],
      "metadata": {
        "id": "CHlKkaRW9iQA"
      }
    },
    {
      "cell_type": "markdown",
      "source": [
        "**Ans30**-Polymorphism allows objects of different classes to be treated as objects of a common superclass. It enables a single function or method to work in different ways based on the object calling it."
      ],
      "metadata": {
        "id": "de4yDY0A9nyd"
      }
    },
    {
      "cell_type": "markdown",
      "source": [
        "**Ans31**-Method overriding allows a child class to provide its specific implementation of a method already defined in the parent class. This enables different behavior for the same method."
      ],
      "metadata": {
        "id": "io3EjAju9r6V"
      }
    },
    {
      "cell_type": "code",
      "source": [
        "#Ans32\n",
        "class Animal:\n",
        "    def make_sound(self):\n",
        "        print(\"Generic animal sound\")\n",
        "\n",
        "class Dog(Animal):\n",
        "    def make_sound(self):\n",
        "        print(\"Woof!\")\n",
        "\n",
        "# Test\n",
        "dog = Dog()\n",
        "dog.make_sound()\n"
      ],
      "metadata": {
        "colab": {
          "base_uri": "https://localhost:8080/"
        },
        "id": "_uH86jR_-29u",
        "outputId": "c221f63d-872e-4017-fbc1-d550a39d6e29"
      },
      "execution_count": 71,
      "outputs": [
        {
          "output_type": "stream",
          "name": "stdout",
          "text": [
            "Woof!\n"
          ]
        }
      ]
    },
    {
      "cell_type": "code",
      "source": [
        "#Ans33\n",
        "class Animal:\n",
        "    def move(self):\n",
        "        print(\"Animal moves\")\n",
        "\n",
        "class Dog(Animal):\n",
        "    def move(self):\n",
        "        print(\"Dog runs\")\n",
        "\n",
        "# Test\n",
        "dog = Dog()\n",
        "dog.move()\n"
      ],
      "metadata": {
        "colab": {
          "base_uri": "https://localhost:8080/"
        },
        "id": "9WFnWjMK_Fn2",
        "outputId": "bd2bfbcd-c89b-4911-f58f-1d4bf1e336db"
      },
      "execution_count": 72,
      "outputs": [
        {
          "output_type": "stream",
          "name": "stdout",
          "text": [
            "Dog runs\n"
          ]
        }
      ]
    },
    {
      "cell_type": "code",
      "source": [
        "#Ans34\n",
        "class Mammal:\n",
        "    def reproduce(self):\n",
        "        print(\"Giving birth to live young\")\n",
        "\n",
        "class DogMammal(Dog, Mammal):\n",
        "    pass\n",
        "\n",
        "# Test\n",
        "dog_mammal = DogMammal()\n",
        "dog_mammal.reproduce()\n"
      ],
      "metadata": {
        "colab": {
          "base_uri": "https://localhost:8080/"
        },
        "id": "qdlvq-6M_VII",
        "outputId": "4f836694-9652-461b-f125-0f82f6a88d05"
      },
      "execution_count": 73,
      "outputs": [
        {
          "output_type": "stream",
          "name": "stdout",
          "text": [
            "Giving birth to live young\n"
          ]
        }
      ]
    },
    {
      "cell_type": "code",
      "source": [
        "#Ans35\n",
        "class GermanShepherd(Dog):\n",
        "    def make_sound(self):\n",
        "        print(\"Bark!\")\n",
        "\n",
        "# Test\n",
        "gs = GermanShepherd()\n",
        "gs.make_sound()\n"
      ],
      "metadata": {
        "colab": {
          "base_uri": "https://localhost:8080/"
        },
        "id": "bPJX7AL0_pxk",
        "outputId": "c1acb1a2-8e89-4395-b64a-86b017988a7d"
      },
      "execution_count": 74,
      "outputs": [
        {
          "output_type": "stream",
          "name": "stdout",
          "text": [
            "Bark!\n"
          ]
        }
      ]
    },
    {
      "cell_type": "code",
      "source": [
        "#Ans36\n",
        "class Animal:\n",
        "    def __init__(self, species):\n",
        "        self.species = species\n",
        "        print(f\"Animal created: {species}\")\n",
        "\n",
        "class Dog(Animal):\n",
        "    def __init__(self, species, breed):\n",
        "        super().__init__(species)\n",
        "        self.breed = breed\n",
        "        print(f\"Dog created: {breed}\")\n",
        "\n",
        "# Test\n",
        "dog = Dog(\"Canine\", \"Labrador\")\n",
        "\n"
      ],
      "metadata": {
        "colab": {
          "base_uri": "https://localhost:8080/"
        },
        "id": "DW4NOxDt_ziU",
        "outputId": "c814f252-f6ff-4139-bb8d-68fa394e05a0"
      },
      "execution_count": 75,
      "outputs": [
        {
          "output_type": "stream",
          "name": "stdout",
          "text": [
            "Animal created: Canine\n",
            "Dog created: Labrador\n"
          ]
        }
      ]
    },
    {
      "cell_type": "markdown",
      "source": [
        "**Ans37**-Abstraction hides the complexity of the system and shows only essential details. In Python, abstraction can be implemented using abstract classes and interfaces (from the abc module)."
      ],
      "metadata": {
        "id": "s64nnOfjAK9Q"
      }
    },
    {
      "cell_type": "markdown",
      "source": [
        "**Ans38**-Abstraction simplifies complex systems by focusing on the essential details, improving code maintainability, readability, and reducing complexity."
      ],
      "metadata": {
        "id": "KAjGgRRKANrp"
      }
    },
    {
      "cell_type": "markdown",
      "source": [
        "**Ans39**-Abstract methods are defined in an abstract class but do not have any implementation. They must be implemented in child classes, while regular methods have an implementation in the base class."
      ],
      "metadata": {
        "id": "o2u65GmnASQZ"
      }
    },
    {
      "cell_type": "markdown",
      "source": [
        "**Ans40**-Abstraction in Python can be achieved using abstract base classes (ABCs) from the abc module, where interfaces are defined as abstract methods that must be implemented by any subclass."
      ],
      "metadata": {
        "id": "LRKULtQIAWYn"
      }
    },
    {
      "cell_type": "code",
      "source": [
        "#Ans41\n",
        "from abc import ABC, abstractmethod\n",
        "\n",
        "class Animal(ABC):\n",
        "    @abstractmethod\n",
        "    def make_sound(self):\n",
        "        pass\n",
        "\n",
        "class Dog(Animal):\n",
        "    def make_sound(self):\n",
        "        print(\"Woof!\")\n",
        "\n",
        "class Cat(Animal):\n",
        "    def make_sound(self):\n",
        "        print(\"Meow!\")\n",
        "\n",
        "# Test\n",
        "dog = Dog()\n",
        "dog.make_sound()\n",
        "\n",
        "cat = Cat()\n",
        "cat.make_sound()\n"
      ],
      "metadata": {
        "colab": {
          "base_uri": "https://localhost:8080/"
        },
        "id": "GtBCZZaDA2cD",
        "outputId": "c3a7e08e-7e6a-4712-d93f-6b54a0897995"
      },
      "execution_count": 76,
      "outputs": [
        {
          "output_type": "stream",
          "name": "stdout",
          "text": [
            "Woof!\n",
            "Meow!\n"
          ]
        }
      ]
    },
    {
      "cell_type": "markdown",
      "source": [
        "**Ans42**-Polymorphism is achieved when a child class overrides a method in the parent class. The same method can behave differently depending on which object is calling it."
      ],
      "metadata": {
        "id": "4p7ebKsmBLbf"
      }
    },
    {
      "cell_type": "code",
      "source": [
        "#Ans43\n",
        "class Vehicle:\n",
        "    def move(self):\n",
        "        print(\"Vehicle is moving\")\n",
        "\n",
        "class Car(Vehicle):\n",
        "    def move(self):\n",
        "        print(\"Car is moving\")\n",
        "\n",
        "# Test\n",
        "car = Car()\n",
        "car.move()"
      ],
      "metadata": {
        "colab": {
          "base_uri": "https://localhost:8080/"
        },
        "id": "Pm_yt9DIBEi1",
        "outputId": "a3397175-5c4c-41ae-cb44-a98141e3455d"
      },
      "execution_count": 77,
      "outputs": [
        {
          "output_type": "stream",
          "name": "stdout",
          "text": [
            "Car is moving\n"
          ]
        }
      ]
    },
    {
      "cell_type": "code",
      "source": [
        "#Ans44\n",
        "class Shape:\n",
        "    def area(self):\n",
        "        pass\n",
        "\n",
        "class Circle(Shape):\n",
        "    def area(self, radius):\n",
        "        return 3.14 * radius ** 2\n",
        "\n",
        "class Square(Shape):\n",
        "    def area(self, side):\n",
        "        return side ** 2\n",
        "\n",
        "# Test\n",
        "circle = Circle()\n",
        "square = Square()\n",
        "print(circle.area(5))\n",
        "print(square.area(4))\n"
      ],
      "metadata": {
        "colab": {
          "base_uri": "https://localhost:8080/"
        },
        "id": "hr11bzAHCxid",
        "outputId": "d957ea27-5f45-4a3f-dd79-bd237937c465"
      },
      "execution_count": 78,
      "outputs": [
        {
          "output_type": "stream",
          "name": "stdout",
          "text": [
            "78.5\n",
            "16\n"
          ]
        }
      ]
    },
    {
      "cell_type": "markdown",
      "source": [
        "**Ans45**-Polymorphism allows a single interface to handle different types of objects, making code more flexible, maintainable, and reusable. It simplifies method calls and enhances code readability."
      ],
      "metadata": {
        "id": "Onx8CXZRDnhA"
      }
    },
    {
      "cell_type": "markdown",
      "source": [
        "**Ans46**-In Python, if an object implements the required methods (regardless of its actual class), it can be used with polymorphism. This is known as duck typing — \"If it walks like a duck and quacks like a duck, it's a duck.\""
      ],
      "metadata": {
        "id": "rrtMpFzkDqtq"
      }
    },
    {
      "cell_type": "markdown",
      "source": [
        "**Ans47**-encapsulation is achieved by declaring private and protected members in a class using underscores. Private members (__) are not directly accessible from outside the class."
      ],
      "metadata": {
        "id": "XacqcxvnDqjX"
      }
    },
    {
      "cell_type": "markdown",
      "source": [
        "**Ans48**-Yes, encapsulation can be bypassed by accessing the private variables using the class name and object’s __dict__ attribute. For example: object._ClassName__privateVar."
      ],
      "metadata": {
        "id": "d4QOmr4NDzTI"
      }
    },
    {
      "cell_type": "code",
      "source": [
        "#Ans49\n",
        "class BankAccount:\n",
        "    def __init__(self):\n",
        "        self.__balance = 0\n",
        "\n",
        "    def deposit(self, amount):\n",
        "        if amount > 0:\n",
        "            self.__balance += amount\n",
        "\n",
        "    def withdraw(self, amount):\n",
        "        if 0 < amount <= self.__balance:\n",
        "            self.__balance -= amount\n",
        "        else:\n",
        "            print(\"Insufficient balance\")\n",
        "\n",
        "    def check_balance(self):\n",
        "        return self.__balance\n",
        "\n",
        "# Test\n",
        "account = BankAccount()\n",
        "account.deposit(100)\n",
        "account.withdraw(30)\n",
        "print(account.check_balance())\n",
        "\n"
      ],
      "metadata": {
        "colab": {
          "base_uri": "https://localhost:8080/"
        },
        "id": "hIQkxYtqC64s",
        "outputId": "80381331-107c-4b2a-fe42-f3d717f5974c"
      },
      "execution_count": 79,
      "outputs": [
        {
          "output_type": "stream",
          "name": "stdout",
          "text": [
            "70\n"
          ]
        }
      ]
    },
    {
      "cell_type": "code",
      "source": [
        "#Ans50\n",
        "class Person:\n",
        "    def __init__(self, name, email):\n",
        "        self.name = name\n",
        "        self.__email = email\n",
        "\n",
        "    def set_email(self, email):\n",
        "        self.__email = email\n",
        "\n",
        "    def get_email(self):\n",
        "        return self.__email\n",
        "\n",
        "# Test\n",
        "person = Person(\"Rab\", \"rab@example.com\")\n",
        "print(person.get_email())\n",
        "person.set_email(\"rabdatamagic@gmail.com\")\n",
        "print(person.get_email())\n"
      ],
      "metadata": {
        "colab": {
          "base_uri": "https://localhost:8080/"
        },
        "id": "rpPMG6FLE4Pb",
        "outputId": "138e3d95-7312-41fd-d5cc-dbe06bff1416"
      },
      "execution_count": 80,
      "outputs": [
        {
          "output_type": "stream",
          "name": "stdout",
          "text": [
            "rab@example.com\n",
            "rabdatamagic@gmail.com\n"
          ]
        }
      ]
    },
    {
      "cell_type": "markdown",
      "source": [
        "**Ans51**-Encapsulation is a key pillar of OOP as it restricts access to the internal representation of an object and protects the integrity of the data by allowing only controlled modification through public methods."
      ],
      "metadata": {
        "id": "eBP_KPz0FqDV"
      }
    },
    {
      "cell_type": "code",
      "source": [
        "#Ans52\n",
        "def my_decorator(func):\n",
        "    def wrapper():\n",
        "        print(\"Before function execution\")\n",
        "        func()\n",
        "        print(\"After function execution\")\n",
        "    return wrapper\n",
        "\n",
        "@my_decorator\n",
        "def say_hello():\n",
        "    print(\"Hello!\")\n",
        "\n",
        "say_hello()\n"
      ],
      "metadata": {
        "colab": {
          "base_uri": "https://localhost:8080/"
        },
        "id": "4ERflvGyFcLM",
        "outputId": "d06e4b7e-841b-4805-e838-79efb11e996c"
      },
      "execution_count": 81,
      "outputs": [
        {
          "output_type": "stream",
          "name": "stdout",
          "text": [
            "Before function execution\n",
            "Hello!\n",
            "After function execution\n"
          ]
        }
      ]
    },
    {
      "cell_type": "code",
      "source": [
        "#Ans53\n",
        "def my_decorator(func):\n",
        "    def wrapper(*args, **kwargs):\n",
        "        print(f\"Before executing {func.__name__}\")\n",
        "        result = func(*args, **kwargs)\n",
        "        print(f\"After executing {func.__name__}\")\n",
        "        return result\n",
        "    return wrapper\n",
        "\n",
        "@my_decorator\n",
        "def greet(name):\n",
        "    print(f\"Hello, {name}!\")\n",
        "\n",
        "greet(\"Rahul\")\n"
      ],
      "metadata": {
        "colab": {
          "base_uri": "https://localhost:8080/"
        },
        "id": "tfNlfqSmGJFK",
        "outputId": "097e22ea-3678-46f4-bbc4-f80d97e1a13d"
      },
      "execution_count": 82,
      "outputs": [
        {
          "output_type": "stream",
          "name": "stdout",
          "text": [
            "Before executing greet\n",
            "Hello, Rahul!\n",
            "After executing greet\n"
          ]
        }
      ]
    },
    {
      "cell_type": "code",
      "source": [
        "#Ans54\n",
        "def decorator_one(func):\n",
        "    def wrapper(*args, **kwargs):\n",
        "        print(\"Decorator One: Before function\")\n",
        "        result = func(*args, **kwargs)\n",
        "        print(\"Decorator One: After function\")\n",
        "        return result\n",
        "    return wrapper\n",
        "\n",
        "def decorator_two(func):\n",
        "    def wrapper(*args, **kwargs):\n",
        "        print(\"Decorator Two: Before function\")\n",
        "        result = func(*args, **kwargs)\n",
        "        print(\"Decorator Two: After function\")\n",
        "        return result\n",
        "    return wrapper\n",
        "\n",
        "@decorator_one\n",
        "@decorator_two\n",
        "def say_hi():\n",
        "    print(\"Hi there!\")\n",
        "\n",
        "say_hi()\n"
      ],
      "metadata": {
        "colab": {
          "base_uri": "https://localhost:8080/"
        },
        "id": "EDylYiJyGWgt",
        "outputId": "1ae2a3d9-453c-4b53-9b71-459005895a09"
      },
      "execution_count": 83,
      "outputs": [
        {
          "output_type": "stream",
          "name": "stdout",
          "text": [
            "Decorator One: Before function\n",
            "Decorator Two: Before function\n",
            "Hi there!\n",
            "Decorator Two: After function\n",
            "Decorator One: After function\n"
          ]
        }
      ]
    },
    {
      "cell_type": "code",
      "source": [
        "#Ans55\n",
        "def my_decorator(func):\n",
        "    def wrapper(*args, **kwargs):\n",
        "        print(f\"Executing {func.__name__} with arguments: {args}, {kwargs}\")\n",
        "        return func(*args, **kwargs)\n",
        "    return wrapper\n",
        "\n",
        "@my_decorator\n",
        "def add(x, y):\n",
        "    return x + y\n",
        "\n",
        "print(add(5, 3))\n"
      ],
      "metadata": {
        "colab": {
          "base_uri": "https://localhost:8080/"
        },
        "id": "0GmH_APdHUzc",
        "outputId": "eb7cf730-ebbe-4943-b5c9-bd9acef6db50"
      },
      "execution_count": 84,
      "outputs": [
        {
          "output_type": "stream",
          "name": "stdout",
          "text": [
            "Executing add with arguments: (5, 3), {}\n",
            "8\n"
          ]
        }
      ]
    },
    {
      "cell_type": "code",
      "source": [
        "#Ans56\n",
        "from functools import wraps\n",
        "\n",
        "def my_decorator(func):\n",
        "    @wraps(func)\n",
        "    def wrapper(*args, **kwargs):\n",
        "        print(\"Executing function\")\n",
        "        return func(*args, **kwargs)\n",
        "    return wrapper\n",
        "\n",
        "@my_decorator\n",
        "def multiply(x, y):\n",
        "    \"\"\"Multiplies two numbers\"\"\"\n",
        "    return x * y\n",
        "\n",
        "print(multiply.__name__)\n",
        "print(multiply.__doc__)\n"
      ],
      "metadata": {
        "id": "RGGaEXlUHi66",
        "colab": {
          "base_uri": "https://localhost:8080/"
        },
        "outputId": "3cb52f4e-134a-460c-8c55-76e5ced6eef8"
      },
      "execution_count": 86,
      "outputs": [
        {
          "output_type": "stream",
          "name": "stdout",
          "text": [
            "multiply\n",
            "Multiplies two numbers\n"
          ]
        }
      ]
    },
    {
      "cell_type": "code",
      "source": [
        "#Ans57\n",
        "class Calculator:\n",
        "    @staticmethod\n",
        "    def add(x, y):\n",
        "        return x + y\n",
        "\n",
        "print(Calculator.add(10, 20))"
      ],
      "metadata": {
        "colab": {
          "base_uri": "https://localhost:8080/"
        },
        "id": "YodBCoWBPpQc",
        "outputId": "45a13eb4-207b-4ea6-e259-c62daefec108"
      },
      "execution_count": 87,
      "outputs": [
        {
          "output_type": "stream",
          "name": "stdout",
          "text": [
            "30\n"
          ]
        }
      ]
    },
    {
      "cell_type": "code",
      "source": [
        "#Ans58\n",
        "class Employee:\n",
        "    count = 0\n",
        "\n",
        "    def __init__(self, name):\n",
        "        self.name = name\n",
        "        Employee.count += 1\n",
        "\n",
        "    @classmethod\n",
        "    def get_employee_count(cls):\n",
        "        return cls.count\n",
        "\n",
        "e1 = Employee(\"Rab\")\n",
        "e2 = Employee(\"Arb\")\n",
        "print(Employee.get_employee_count())\n"
      ],
      "metadata": {
        "colab": {
          "base_uri": "https://localhost:8080/"
        },
        "id": "EaUMoJCjQOmz",
        "outputId": "daca935d-460e-4345-c16c-33a7b8a56ddb"
      },
      "execution_count": 88,
      "outputs": [
        {
          "output_type": "stream",
          "name": "stdout",
          "text": [
            "2\n"
          ]
        }
      ]
    },
    {
      "cell_type": "code",
      "source": [
        "#Ans59\n",
        "class StringFormatter:\n",
        "    @staticmethod\n",
        "    def reverse_string(s):\n",
        "        return s[::-1]\n",
        "\n",
        "print(StringFormatter.reverse_string(\"Python\"))"
      ],
      "metadata": {
        "colab": {
          "base_uri": "https://localhost:8080/"
        },
        "id": "4kJHRUKCQg_a",
        "outputId": "43ba4aeb-24e7-4738-9661-b5f5386dc698"
      },
      "execution_count": 89,
      "outputs": [
        {
          "output_type": "stream",
          "name": "stdout",
          "text": [
            "nohtyP\n"
          ]
        }
      ]
    },
    {
      "cell_type": "code",
      "source": [
        "#Ans60\n",
        "class Circle:\n",
        "    @staticmethod\n",
        "    def calculate_area(radius):\n",
        "        return 3.1416 * radius * radius\n",
        "\n",
        "print(Circle.calculate_area(5))"
      ],
      "metadata": {
        "colab": {
          "base_uri": "https://localhost:8080/"
        },
        "id": "XLLb3tQLQsJo",
        "outputId": "1ad1a109-5156-4680-bb62-442fce928d85"
      },
      "execution_count": 90,
      "outputs": [
        {
          "output_type": "stream",
          "name": "stdout",
          "text": [
            "78.54\n"
          ]
        }
      ]
    },
    {
      "cell_type": "code",
      "source": [
        "#Ans61\n",
        "class TemperatureConverter:\n",
        "    @staticmethod\n",
        "    def celsius_to_fahrenheit(celsius):\n",
        "        return (celsius * 9/5) + 32\n",
        "\n",
        "print(TemperatureConverter.celsius_to_fahrenheit(25))"
      ],
      "metadata": {
        "colab": {
          "base_uri": "https://localhost:8080/"
        },
        "id": "1I2qdb-2Q0ue",
        "outputId": "0588ed38-f852-4a79-d4fd-c51b4f2bfd92"
      },
      "execution_count": 91,
      "outputs": [
        {
          "output_type": "stream",
          "name": "stdout",
          "text": [
            "77.0\n"
          ]
        }
      ]
    },
    {
      "cell_type": "code",
      "source": [
        "#Ans62\n",
        "#The __str__() method returns a human-readable string representation of an object.\n",
        "#It is invoked when print() is called.\n",
        "\n",
        "class Person:\n",
        "    def __init__(self, name):\n",
        "        self.name = name\n",
        "\n",
        "    def __str__(self):\n",
        "        return f\"Person named {self.name}\"\n",
        "\n",
        "p = Person(\"Rahul\")\n",
        "print(p)"
      ],
      "metadata": {
        "colab": {
          "base_uri": "https://localhost:8080/"
        },
        "id": "GhHKKNCEQ64q",
        "outputId": "fe9fd92a-37d4-4a8a-d484-eb98831c3985"
      },
      "execution_count": 92,
      "outputs": [
        {
          "output_type": "stream",
          "name": "stdout",
          "text": [
            "Person named Rahul\n"
          ]
        }
      ]
    },
    {
      "cell_type": "code",
      "source": [
        "#Ans63\n",
        "#The __len__() method returns the length of an object.\n",
        "\n",
        "class MyList:\n",
        "    def __init__(self, data):\n",
        "        self.data = data\n",
        "\n",
        "    def __len__(self):\n",
        "        return len(self.data)\n",
        "\n",
        "my_list = MyList([1, 2, 3, 4])\n",
        "print(len(my_list))"
      ],
      "metadata": {
        "colab": {
          "base_uri": "https://localhost:8080/"
        },
        "id": "sVhHzsx5RLd9",
        "outputId": "0d19e686-01b3-4590-e9dd-270863230910"
      },
      "execution_count": 93,
      "outputs": [
        {
          "output_type": "stream",
          "name": "stdout",
          "text": [
            "4\n"
          ]
        }
      ]
    },
    {
      "cell_type": "code",
      "source": [
        "#Ans64\n",
        "#The __add__() method allows an object to define the behavior of the + operator.\n",
        "#It is used to customize the behavior of addition.\n",
        "\n",
        "class Point:\n",
        "    def __init__(self, x, y):\n",
        "        self.x = x\n",
        "        self.y = y\n",
        "\n",
        "    def __add__(self, other):\n",
        "        return Point(self.x + other.x, self.y + other.y)\n",
        "\n",
        "    def __str__(self):\n",
        "        return f\"Point({self.x}, {self.y})\"\n",
        "\n",
        "p1 = Point(1, 2)\n",
        "p2 = Point(3, 4)\n",
        "p3 = p1 + p2\n",
        "print(p3)\n"
      ],
      "metadata": {
        "colab": {
          "base_uri": "https://localhost:8080/"
        },
        "id": "zDC-fsV7RfRq",
        "outputId": "2809a2a7-d371-4ffd-bb96-ab13157b5502"
      },
      "execution_count": 94,
      "outputs": [
        {
          "output_type": "stream",
          "name": "stdout",
          "text": [
            "Point(4, 6)\n"
          ]
        }
      ]
    },
    {
      "cell_type": "code",
      "source": [
        "#Ans65\n",
        "#The __getitem__() method allows instances of a class to use indexing and slicing.\n",
        "\n",
        "class MyList:\n",
        "    def __init__(self, data):\n",
        "        self.data = data\n",
        "\n",
        "    def __getitem__(self, index):\n",
        "        return self.data[index]\n",
        "\n",
        "my_list = MyList([10, 20, 30])\n",
        "print(my_list[1])"
      ],
      "metadata": {
        "colab": {
          "base_uri": "https://localhost:8080/"
        },
        "id": "KWUC9RFmR6Fi",
        "outputId": "0024e013-897d-4c6c-f782-ff7eac25d499"
      },
      "execution_count": 95,
      "outputs": [
        {
          "output_type": "stream",
          "name": "stdout",
          "text": [
            "20\n"
          ]
        }
      ]
    },
    {
      "cell_type": "code",
      "source": [
        "#Ans66\n",
        "#__iter__() returns an iterator object.\n",
        "#__next__() returns the next item from the iterator.\n",
        "\n",
        "class Counter:\n",
        "    def __init__(self, start, end):\n",
        "        self.current = start\n",
        "        self.end = end\n",
        "\n",
        "    def __iter__(self):\n",
        "        return self\n",
        "\n",
        "    def __next__(self):\n",
        "        if self.current >= self.end:\n",
        "            raise StopIteration\n",
        "        self.current += 1\n",
        "        return self.current - 1\n",
        "\n",
        "counter = Counter(1, 5)\n",
        "for num in counter:\n",
        "    print(num, end= ' ')\n"
      ],
      "metadata": {
        "colab": {
          "base_uri": "https://localhost:8080/"
        },
        "id": "tBwjFWokSNS2",
        "outputId": "3655a523-7a38-43c3-820c-78f6b233be9b"
      },
      "execution_count": 97,
      "outputs": [
        {
          "output_type": "stream",
          "name": "stdout",
          "text": [
            "1 2 3 4 "
          ]
        }
      ]
    },
    {
      "cell_type": "code",
      "source": [
        "#Ans67\n",
        "#Getter methods allow controlled access to class attributes.\n",
        "#We use the @property decorator to define a getter.\n",
        "\n",
        "class Person:\n",
        "    def __init__(self, name):\n",
        "        self._name = name\n",
        "\n",
        "    @property\n",
        "    def name(self):\n",
        "        return self._name\n",
        "\n",
        "p = Person(\"RabDataMagic\")\n",
        "print(p.name)"
      ],
      "metadata": {
        "colab": {
          "base_uri": "https://localhost:8080/"
        },
        "id": "F5U7VqrVSapa",
        "outputId": "a1a3be15-b994-4d06-e409-249c4599310c"
      },
      "execution_count": 99,
      "outputs": [
        {
          "output_type": "stream",
          "name": "stdout",
          "text": [
            "RabDataMagic\n"
          ]
        }
      ]
    },
    {
      "cell_type": "code",
      "source": [
        "#Ans68\n",
        "#Setter methods allow controlled modification of class attributes.\n",
        "#We use the @<attribute>.setter decorator to define a setter.\n",
        "\n",
        "class Person:\n",
        "    def __init__(self, name):\n",
        "        self._name = name\n",
        "\n",
        "    @property\n",
        "    def name(self):\n",
        "        return self._name\n",
        "\n",
        "    @name.setter\n",
        "    def name(self, value):\n",
        "        self._name = value\n",
        "\n",
        "p = Person(\"Rahul\")\n",
        "p.name = \"Lucky\"\n",
        "print(p.name)"
      ],
      "metadata": {
        "colab": {
          "base_uri": "https://localhost:8080/"
        },
        "id": "rEDg1P3oS4oO",
        "outputId": "fd15f794-14ca-4eb5-80a6-5d3135321264"
      },
      "execution_count": 101,
      "outputs": [
        {
          "output_type": "stream",
          "name": "stdout",
          "text": [
            "Lucky\n"
          ]
        }
      ]
    },
    {
      "cell_type": "code",
      "source": [
        "#Ans69\n",
        "#The @property decorator allows us to define a method that can be accessed like an attribute.\n",
        "#It is used for encapsulation of private attributes.\n",
        "\n",
        "class Rectangle:\n",
        "    def __init__(self, width, height):\n",
        "        self._width = width\n",
        "        self._height = height\n",
        "\n",
        "    @property\n",
        "    def area(self):\n",
        "        return self._width * self._height\n",
        "\n",
        "rect = Rectangle(5, 10)\n",
        "print(rect.area)\n"
      ],
      "metadata": {
        "colab": {
          "base_uri": "https://localhost:8080/"
        },
        "id": "vbY2IAdpTVuB",
        "outputId": "27a72c4a-303a-4726-eb5f-ae71e518ef47"
      },
      "execution_count": 102,
      "outputs": [
        {
          "output_type": "stream",
          "name": "stdout",
          "text": [
            "50\n"
          ]
        }
      ]
    },
    {
      "cell_type": "code",
      "source": [
        "#Ans70\n",
        "#The @deleter decorator allows us to delete an attribute using the del keyword while managing any cleanup operations.\n",
        "\n",
        "class Person:\n",
        "    def __init__(self, name):\n",
        "        self._name = name\n",
        "\n",
        "    @property\n",
        "    def name(self):\n",
        "        return self._name\n",
        "\n",
        "    @name.deleter\n",
        "    def name(self):\n",
        "        print(f\"Deleting {self._name}\")\n",
        "        del self._name\n",
        "\n",
        "p = Person(\"xyz\")\n",
        "del p.name"
      ],
      "metadata": {
        "colab": {
          "base_uri": "https://localhost:8080/"
        },
        "id": "c9pIQRhCTn4k",
        "outputId": "06c7de04-a5a6-46a5-d474-bfe8ad194aff"
      },
      "execution_count": 104,
      "outputs": [
        {
          "output_type": "stream",
          "name": "stdout",
          "text": [
            "Deleting xyz\n"
          ]
        }
      ]
    },
    {
      "cell_type": "code",
      "source": [
        "#Ans71\n",
        "#Encapsulation hides the internal state of an object and provides controlled access via getter and setter methods.\n",
        "#The @property and @<attribute>.setter decorators help achieve encapsulation by making private attributes accessible through controlled methods.\n",
        "\n",
        "class BankAccount:\n",
        "    def __init__(self, balance):\n",
        "        self._balance = balance\n",
        "\n",
        "    @property\n",
        "    def balance(self):\n",
        "        return self._balance\n",
        "\n",
        "    @balance.setter\n",
        "    def balance(self, value):\n",
        "        if value < 0:\n",
        "            raise ValueError(\"Balance cannot be negative\")\n",
        "        self._balance = value\n",
        "\n",
        "account = BankAccount(1000)\n",
        "print(account.balance)\n",
        "account.balance = 1500\n",
        "print(account.balance)\n"
      ],
      "metadata": {
        "colab": {
          "base_uri": "https://localhost:8080/"
        },
        "id": "gM0SEk9HT7kI",
        "outputId": "6d8b0bae-9bbd-48b3-c872-f2129a25fb44"
      },
      "execution_count": 105,
      "outputs": [
        {
          "output_type": "stream",
          "name": "stdout",
          "text": [
            "1000\n",
            "1500\n"
          ]
        }
      ]
    }
  ]
}