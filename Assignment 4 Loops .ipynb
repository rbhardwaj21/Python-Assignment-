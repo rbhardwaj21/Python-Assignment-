{
 "cells": [
  {
   "cell_type": "code",
   "execution_count": 1,
   "id": "4b38b2cb-c216-49aa-8f22-1071b7b4c4fc",
   "metadata": {},
   "outputs": [
    {
     "name": "stdout",
     "output_type": "stream",
     "text": [
      "1\n",
      "2\n",
      "3\n",
      "4\n",
      "5\n",
      "Code executed sucessfully\n"
     ]
    }
   ],
   "source": [
    "#Answer 1\n",
    "a = 6\n",
    "b = 1\n",
    "while b < a :\n",
    "    print (b)\n",
    "    b += 1\n",
    "else:\n",
    "    print (\"Code executed sucessfully\")"
   ]
  },
  {
   "cell_type": "code",
   "execution_count": 3,
   "id": "6731587d-edf9-439d-bee4-b56e1ac2ff1f",
   "metadata": {},
   "outputs": [
    {
     "name": "stdout",
     "output_type": "stream",
     "text": [
      "Sum of numbers from 1 to 10 : 55\n"
     ]
    }
   ],
   "source": [
    "#Answer 2\n",
    "c = 0\n",
    "d = 1\n",
    "while d <= 10 :\n",
    "    c += d\n",
    "    d += 1\n",
    "print (\"Sum of numbers from 1 to 10 :\" , c)"
   ]
  },
  {
   "cell_type": "code",
   "execution_count": 20,
   "id": "d2697e5e-6e2f-41a6-b2c8-61d7cd256972",
   "metadata": {},
   "outputs": [
    {
     "name": "stdin",
     "output_type": "stream",
     "text": [
      "Enter a number: 3\n"
     ]
    },
    {
     "name": "stdout",
     "output_type": "stream",
     "text": [
      "Factorial of the number: 6\n"
     ]
    }
   ],
   "source": [
    "#Answer 3\n",
    "e = int (input(\"Enter a number:\"))\n",
    "\n",
    "factorial = 1\n",
    "if e >= 1 :\n",
    "    for f in range (1, e+1):\n",
    "        factorial = factorial*f \n",
    "print(\"Factorial of the number:\", factorial)"
   ]
  },
  {
   "cell_type": "code",
   "execution_count": 15,
   "id": "900c6919-0a26-455d-8466-032cc8ff5107",
   "metadata": {},
   "outputs": [
    {
     "name": "stdout",
     "output_type": "stream",
     "text": [
      "Numbers of vowels in String: 5\n"
     ]
    }
   ],
   "source": [
    "#Answer 4\n",
    "string = \"RABdilliwala\"\n",
    "vowels = \"aeiouAEIOU\"\n",
    "\n",
    "count = sum(string.count(vowel) for vowel in vowels)\n",
    "\n",
    "print(\"Numbers of vowels in String:\", count)"
   ]
  },
  {
   "cell_type": "code",
   "execution_count": 2,
   "id": "890d81da-b40a-4be6-a3ea-87e072dbbe1b",
   "metadata": {},
   "outputs": [
    {
     "name": "stdout",
     "output_type": "stream",
     "text": [
      "* \n",
      "* * \n",
      "* * * \n",
      "* * * * \n",
      "* * * * * \n"
     ]
    }
   ],
   "source": [
    "#Answer 5\n",
    "row = 1\n",
    "while row <= 5:\n",
    "    col = 1\n",
    "    while col <= row:\n",
    "        print (\"*\", end = \" \")\n",
    "        col += 1\n",
    "    print()\n",
    "    row += 1"
   ]
  },
  {
   "cell_type": "code",
   "execution_count": 12,
   "id": "b1ff7905-4778-4473-8280-f0a6d3a65251",
   "metadata": {},
   "outputs": [
    {
     "name": "stdout",
     "output_type": "stream",
     "text": [
      "1 * 1 = 1\t 1 * 2 = 2\t 1 * 3 = 3\t 1 * 4 = 4\t 1 * 5 = 5\t \n",
      "2 * 1 = 2\t 2 * 2 = 4\t 2 * 3 = 6\t 2 * 4 = 8\t 2 * 5 = 10\t \n",
      "3 * 1 = 3\t 3 * 2 = 6\t 3 * 3 = 9\t 3 * 4 = 12\t 3 * 5 = 15\t \n",
      "4 * 1 = 4\t 4 * 2 = 8\t 4 * 3 = 12\t 4 * 4 = 16\t 4 * 5 = 20\t \n",
      "5 * 1 = 5\t 5 * 2 = 10\t 5 * 3 = 15\t 5 * 4 = 20\t 5 * 5 = 25\t \n"
     ]
    }
   ],
   "source": [
    "#Answer 6\n",
    "row = 5\n",
    "col = 5\n",
    "\n",
    "for g in range (1, row + 1):\n",
    "    for h in range (1, col +1):\n",
    "        i = g * h\n",
    "        print(f\"{g} * {h} = {i}\\t\", end = \" \")\n",
    "        \n",
    "    print()"
   ]
  },
  {
   "cell_type": "code",
   "execution_count": null,
   "id": "e888e4c1-9051-4688-b867-02cfd33eaa76",
   "metadata": {},
   "outputs": [],
   "source": []
  }
 ],
 "metadata": {
  "kernelspec": {
   "display_name": "Python 3 (ipykernel)",
   "language": "python",
   "name": "python3"
  },
  "language_info": {
   "codemirror_mode": {
    "name": "ipython",
    "version": 3
   },
   "file_extension": ".py",
   "mimetype": "text/x-python",
   "name": "python",
   "nbconvert_exporter": "python",
   "pygments_lexer": "ipython3",
   "version": "3.10.8"
  }
 },
 "nbformat": 4,
 "nbformat_minor": 5
}
