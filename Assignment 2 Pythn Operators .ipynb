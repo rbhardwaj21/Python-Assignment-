{
 "cells": [
  {
   "cell_type": "code",
   "execution_count": 21,
   "id": "d84b8dc7-70f6-4ffd-9a8a-4513e62a692a",
   "metadata": {},
   "outputs": [
    {
     "name": "stdout",
     "output_type": "stream",
     "text": [
      "Sum: 18\n",
      "Difference: 12\n",
      "Product: 45\n",
      "Quotient: 5.0\n"
     ]
    }
   ],
   "source": [
    "#Answer 1\n",
    "a = 15\n",
    "b = 3\n",
    "\n",
    "add = a + b\n",
    "sub = a - b\n",
    "product = a * b\n",
    "quotient = a / b\n",
    "\n",
    "print (\"Sum:\", add)\n",
    "print (\"Difference:\", sub)\n",
    "print (\"Product:\" , product)\n",
    "print (\"Quotient:\" , quotient)"
   ]
  },
  {
   "cell_type": "code",
   "execution_count": 12,
   "id": "2d60585e-3959-4eb4-a729-079a9373d926",
   "metadata": {},
   "outputs": [
    {
     "name": "stdout",
     "output_type": "stream",
     "text": [
      "Add: 14\n",
      "Sub: 10\n",
      "Muliply: 20\n",
      "Divide: 4.0\n",
      "Modulus: 0.0\n",
      "Exponential: 0.0\n"
     ]
    }
   ],
   "source": [
    "#Answer 2\n",
    "c = 12\n",
    "\n",
    "c += 2\n",
    "print (\"Add:\" , c)\n",
    "\n",
    "c -= 4\n",
    "print (\"Sub:\" , c)\n",
    "\n",
    "c *= 2\n",
    "print (\"Muliply:\" , c)\n",
    "\n",
    "c /= 5 \n",
    "print (\"Divide:\" , c)\n",
    "\n",
    "c %= 4\n",
    "print (\"Modulus:\" , c)\n",
    "\n",
    "c **= 2\n",
    "print (\"Exponential:\" , c)"
   ]
  },
  {
   "cell_type": "code",
   "execution_count": 6,
   "id": "c4762414-fcf6-4ec6-a25b-b6cfa96e2216",
   "metadata": {},
   "outputs": [
    {
     "name": "stdout",
     "output_type": "stream",
     "text": [
      "f is greater than g: True\n"
     ]
    }
   ],
   "source": [
    "#Answer 3-Using Comparison Operator\n",
    "d = 21\n",
    "e = 3\n",
    "d >= e\n",
    "print (\"f is greater than g:\", d >= e)"
   ]
  },
  {
   "cell_type": "code",
   "execution_count": 7,
   "id": "d8746f1d-fbe7-4e19-b46d-b1791d0b0d71",
   "metadata": {},
   "outputs": [
    {
     "name": "stdin",
     "output_type": "stream",
     "text": [
      "Enter first number: 21\n",
      "Enter second number: 3\n"
     ]
    },
    {
     "name": "stdout",
     "output_type": "stream",
     "text": [
      "first number is greater than second number\n"
     ]
    }
   ],
   "source": [
    "#Answer 3-Using if elif else statement\n",
    "f = float(input(\"Enter first number:\"))\n",
    "g = float(input(\"Enter second number:\"))\n",
    "\n",
    "if f > g :\n",
    "    print (\"first number is greater than second number\")\n",
    "    \n",
    "elif f < g :\n",
    "    print (\"first number is less than second number\")\n",
    "    \n",
    "else :\n",
    "    print (\"both are equal\")"
   ]
  },
  {
   "cell_type": "code",
   "execution_count": 1,
   "id": "96f2c1ce-26e2-4708-b0d6-ee4a309f01c0",
   "metadata": {},
   "outputs": [
    {
     "name": "stdout",
     "output_type": "stream",
     "text": [
      "AND Operator Result: True\n",
      "OR Operator Result: True\n",
      "NOT Operator Result: True\n"
     ]
    }
   ],
   "source": [
    "#Answer 4-Using Logical Operator\n",
    "h = True and True\n",
    "i = True or False\n",
    "j = not False\n",
    "\n",
    "print (\"AND Operator Result:\" , h)\n",
    "print (\"OR Operator Result:\" , i)\n",
    "print (\"NOT Operator Result:\" , j)\n"
   ]
  },
  {
   "cell_type": "code",
   "execution_count": 10,
   "id": "98a11a88-ed24-4a14-8298-24312ac0e242",
   "metadata": {},
   "outputs": [
    {
     "name": "stdout",
     "output_type": "stream",
     "text": [
      "Both are True.\n",
      "k is not equal to zero.\n"
     ]
    }
   ],
   "source": [
    "#Answer 4-Using if statement\n",
    "k = 3\n",
    "l = 21\n",
    "\n",
    "if k > 0 and l < 25 :\n",
    "    print (\"Both are True.\")\n",
    "    \n",
    "if k < 0 or l > 25 :\n",
    "    print (\"Atleast one is true.\")\n",
    "    \n",
    "if not k == 0 :\n",
    "    print (\"k is not equal to zero.\")"
   ]
  },
  {
   "cell_type": "code",
   "execution_count": 3,
   "id": "97fc42f8-8dd5-4076-b86b-e7ca52ba4862",
   "metadata": {},
   "outputs": [
    {
     "name": "stdout",
     "output_type": "stream",
     "text": [
      " m is n : True\n",
      " m is not n: False\n"
     ]
    }
   ],
   "source": [
    "#Answer 5-Using Identity Operator\n",
    "m = 19\n",
    "n = m \n",
    "m is n \n",
    "m is not n\n",
    "print (\" m is n :\" , m is n)\n",
    "print (\" m is not n:\" , m is not n)"
   ]
  },
  {
   "cell_type": "code",
   "execution_count": 12,
   "id": "f0c2da48-458c-4ff5-bf41-022d0d8832a0",
   "metadata": {},
   "outputs": [
    {
     "name": "stdout",
     "output_type": "stream",
     "text": [
      "140233456812848\n",
      "140233456812848\n",
      "140233456812848\n"
     ]
    }
   ],
   "source": [
    "#Answer 5-Using id() function\n",
    "o = 19\n",
    "p = o\n",
    "q = 19\n",
    "\n",
    "print (id(o))\n",
    "print (id(p))\n",
    "print (id(q))"
   ]
  },
  {
   "cell_type": "code",
   "execution_count": 16,
   "id": "b5ed4376-4ae7-4fc6-8fd1-4a2b8d18e00d",
   "metadata": {},
   "outputs": [
    {
     "name": "stdout",
     "output_type": "stream",
     "text": [
      "Bitwise AND: 4\n",
      "Bitwise OR: 29\n",
      "Bitwise XOR: 25\n",
      "Bitwise Not r: -22\n",
      "Bitwise Not s: -13\n",
      "Left Shift: 84\n",
      "Right Shift: 6\n"
     ]
    }
   ],
   "source": [
    "#Answer 6\n",
    "r = 21\n",
    "s = 12\n",
    "\n",
    "And = r & s \n",
    "print (\"Bitwise AND:\" , And)\n",
    "\n",
    "Or = r | s \n",
    "print (\"Bitwise OR:\" , Or)\n",
    "\n",
    "xor = r ^ s\n",
    "print (\"Bitwise XOR:\" , xor)\n",
    "\n",
    "Not_r = ~r\n",
    "Not_s = ~s\n",
    "print (\"Bitwise Not r:\" , Not_r)\n",
    "print (\"Bitwise Not s:\" , Not_s)\n",
    "\n",
    "left_shift = r << 2\n",
    "print (\"Left Shift:\" , left_shift)\n",
    "\n",
    "right_shift = s >> 1\n",
    "print (\"Right Shift:\" , right_shift)"
   ]
  },
  {
   "cell_type": "code",
   "execution_count": 20,
   "id": "eaa31fb3-d390-4e69-a023-4fac009a9864",
   "metadata": {},
   "outputs": [
    {
     "data": {
      "text/plain": [
       "-2"
      ]
     },
     "execution_count": 20,
     "metadata": {},
     "output_type": "execute_result"
    }
   ],
   "source": [
    "#Answer 7\n",
    "t = 2\n",
    "u = -t\n",
    "u"
   ]
  },
  {
   "cell_type": "code",
   "execution_count": 21,
   "id": "f302180d-72e0-4735-9701-07afd3234e86",
   "metadata": {},
   "outputs": [
    {
     "name": "stdout",
     "output_type": "stream",
     "text": [
      "Number: 17\n",
      "Result: Positive Number\n"
     ]
    }
   ],
   "source": [
    "#Answer 8\n",
    "v = 17\n",
    "\n",
    "result = \"Positive Number\" if v > 0 else \"Non Positive Number\"\n",
    "\n",
    "print (\"Number:\" , v)\n",
    "print (\"Result:\" , result)"
   ]
  },
  {
   "cell_type": "code",
   "execution_count": null,
   "id": "2045eaf0-37d5-458b-8a4a-970fa1f5c16b",
   "metadata": {},
   "outputs": [],
   "source": []
  }
 ],
 "metadata": {
  "kernelspec": {
   "display_name": "Python 3 (ipykernel)",
   "language": "python",
   "name": "python3"
  },
  "language_info": {
   "codemirror_mode": {
    "name": "ipython",
    "version": 3
   },
   "file_extension": ".py",
   "mimetype": "text/x-python",
   "name": "python",
   "nbconvert_exporter": "python",
   "pygments_lexer": "ipython3",
   "version": "3.10.8"
  }
 },
 "nbformat": 4,
 "nbformat_minor": 5
}
